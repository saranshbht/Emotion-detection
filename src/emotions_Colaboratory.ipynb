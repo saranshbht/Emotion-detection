{
 "cells": [
  {
   "cell_type": "markdown",
   "metadata": {
    "colab_type": "text",
    "id": "Ns5ZmfjOz5qc"
   },
   "source": [
    "# Imports"
   ]
  },
  {
   "cell_type": "code",
   "execution_count": 0,
   "metadata": {
    "colab": {},
    "colab_type": "code",
    "id": "7Oslj3y5z5qk"
   },
   "outputs": [],
   "source": [
    "%matplotlib inline\n",
    "import matplotlib.pyplot as plt\n",
    "import numpy as np\n",
    "import cv2\n",
    "import pandas as pd\n",
    "from keras import models, layers, optimizers\n",
    "import warnings\n",
    "warnings.filterwarnings('ignore')"
   ]
  },
  {
   "cell_type": "markdown",
   "metadata": {
    "colab_type": "text",
    "id": "fa-C_ezdz5rV"
   },
   "source": [
    "# Defining function to plot loss and accuracy curves"
   ]
  },
  {
   "cell_type": "code",
   "execution_count": 0,
   "metadata": {
    "colab": {},
    "colab_type": "code",
    "id": "jRoC9AYvz5rq"
   },
   "outputs": [],
   "source": [
    "def plot_model_history(model_history):\n",
    "    fig, axs = plt.subplots(1,2,figsize=(15,5))\n",
    "    \n",
    "    # summarize history for accuracy\n",
    "    axs[0].plot(range(1,len(model_history.history['accuracy'])+1),model_history.history['accuracy'])\n",
    "    axs[0].plot(range(1,len(model_history.history['val_accuracy'])+1),model_history.history['val_accuracy'])\n",
    "    axs[0].set_title('Model Accuracy')\n",
    "    axs[0].set_ylabel('Accuracy')\n",
    "    axs[0].set_xlabel('Epoch')\n",
    "    axs[0].set_xticks(np.arange(1,len(model_history.history['accuracy'])+1),len(model_history.history['accuracy'])/10)\n",
    "    axs[0].legend(['train', 'val'], loc='best')\n",
    "    \n",
    "    # summarize history for loss\n",
    "    axs[1].plot(range(1,len(model_history.history['loss'])+1),model_history.history['loss'])\n",
    "    axs[1].plot(range(1,len(model_history.history['val_loss'])+1),model_history.history['val_loss'])\n",
    "    axs[1].set_title('Model Loss')\n",
    "    axs[1].set_ylabel('Loss')\n",
    "    axs[1].set_xlabel('Epoch')\n",
    "    axs[1].set_xticks(np.arange(1,len(model_history.history['loss'])+1),len(model_history.history['loss'])/10)\n",
    "    axs[1].legend(['train', 'val'], loc='best')\n",
    "    fig.savefig('plot.png')\n",
    "    plt.show()"
   ]
  },
  {
   "cell_type": "markdown",
   "metadata": {
    "colab_type": "text",
    "id": "rF7bUj33WpCh"
   },
   "source": [
    "# Loading and preprocessing data"
   ]
  },
  {
   "cell_type": "code",
   "execution_count": 13,
   "metadata": {
    "colab": {
     "base_uri": "https://localhost:8080/",
     "height": 206
    },
    "colab_type": "code",
    "id": "NVM1Fy76Slqw",
    "outputId": "38a1d9e2-8dc6-4093-8246-0957091c204a"
   },
   "outputs": [
    {
     "data": {
      "text/html": [
       "<div>\n",
       "<style scoped>\n",
       "    .dataframe tbody tr th:only-of-type {\n",
       "        vertical-align: middle;\n",
       "    }\n",
       "\n",
       "    .dataframe tbody tr th {\n",
       "        vertical-align: top;\n",
       "    }\n",
       "\n",
       "    .dataframe thead th {\n",
       "        text-align: right;\n",
       "    }\n",
       "</style>\n",
       "<table border=\"1\" class=\"dataframe\">\n",
       "  <thead>\n",
       "    <tr style=\"text-align: right;\">\n",
       "      <th></th>\n",
       "      <th>emotion</th>\n",
       "      <th>pixels</th>\n",
       "      <th>Usage</th>\n",
       "    </tr>\n",
       "  </thead>\n",
       "  <tbody>\n",
       "    <tr>\n",
       "      <th>0</th>\n",
       "      <td>0</td>\n",
       "      <td>70 80 82 72 58 58 60 63 54 58 60 48 89 115 121...</td>\n",
       "      <td>Training</td>\n",
       "    </tr>\n",
       "    <tr>\n",
       "      <th>1</th>\n",
       "      <td>0</td>\n",
       "      <td>151 150 147 155 148 133 111 140 170 174 182 15...</td>\n",
       "      <td>Training</td>\n",
       "    </tr>\n",
       "    <tr>\n",
       "      <th>2</th>\n",
       "      <td>2</td>\n",
       "      <td>231 212 156 164 174 138 161 173 182 200 106 38...</td>\n",
       "      <td>Training</td>\n",
       "    </tr>\n",
       "    <tr>\n",
       "      <th>3</th>\n",
       "      <td>4</td>\n",
       "      <td>24 32 36 30 32 23 19 20 30 41 21 22 32 34 21 1...</td>\n",
       "      <td>Training</td>\n",
       "    </tr>\n",
       "    <tr>\n",
       "      <th>4</th>\n",
       "      <td>6</td>\n",
       "      <td>4 0 0 0 0 0 0 0 0 0 0 0 3 15 23 28 48 50 58 84...</td>\n",
       "      <td>Training</td>\n",
       "    </tr>\n",
       "  </tbody>\n",
       "</table>\n",
       "</div>"
      ],
      "text/plain": [
       "   emotion                                             pixels     Usage\n",
       "0        0  70 80 82 72 58 58 60 63 54 58 60 48 89 115 121...  Training\n",
       "1        0  151 150 147 155 148 133 111 140 170 174 182 15...  Training\n",
       "2        2  231 212 156 164 174 138 161 173 182 200 106 38...  Training\n",
       "3        4  24 32 36 30 32 23 19 20 30 41 21 22 32 34 21 1...  Training\n",
       "4        6  4 0 0 0 0 0 0 0 0 0 0 0 3 15 23 28 48 50 58 84...  Training"
      ]
     },
     "execution_count": 13,
     "metadata": {
      "tags": []
     },
     "output_type": "execute_result"
    }
   ],
   "source": [
    "df = pd.read_csv('/content/drive/My Drive/fer2013.csv')\n",
    "df.head()"
   ]
  },
  {
   "cell_type": "code",
   "execution_count": 0,
   "metadata": {
    "colab": {},
    "colab_type": "code",
    "id": "MpWfQuWiU-Ci"
   },
   "outputs": [],
   "source": [
    "training = df[df['Usage'] == 'Training']\n",
    "testing = df[df['Usage'] != 'Training']"
   ]
  },
  {
   "cell_type": "code",
   "execution_count": 15,
   "metadata": {
    "colab": {
     "base_uri": "https://localhost:8080/",
     "height": 35
    },
    "colab_type": "code",
    "id": "-NGVkdovSsTB",
    "outputId": "1c734b6b-d220-41e2-b9de-002e48ddb267"
   },
   "outputs": [
    {
     "data": {
      "text/plain": [
       "(7178, 2304)"
      ]
     },
     "execution_count": 15,
     "metadata": {
      "tags": []
     },
     "output_type": "execute_result"
    }
   ],
   "source": [
    "data = testing['pixels'].apply(lambda x: x.split(' ')).to_numpy()\n",
    "testing_data = np.zeros((len(data), len(data[0])))\n",
    "for i in range(len(data)):\n",
    "    testing_data[i] = np.array(data[i])\n",
    "\n",
    "testing_data = testing_data.astype('float')\n",
    "testing_data.shape"
   ]
  },
  {
   "cell_type": "code",
   "execution_count": 17,
   "metadata": {
    "colab": {
     "base_uri": "https://localhost:8080/",
     "height": 35
    },
    "colab_type": "code",
    "id": "9niTIghcSsco",
    "outputId": "8f2edf5c-fe52-4b62-eea9-22fe7a0bf36c"
   },
   "outputs": [
    {
     "data": {
      "text/plain": [
       "(28709, 2304)"
      ]
     },
     "execution_count": 17,
     "metadata": {
      "tags": []
     },
     "output_type": "execute_result"
    }
   ],
   "source": [
    "data = training['pixels'].apply(lambda x: x.split(' ')).to_numpy()\n",
    "training_data = np.zeros((len(data), len(data[0])))\n",
    "for i in range(len(data)):\n",
    "    training_data[i] = np.array(data[i])\n",
    "\n",
    "training_data = training_data.astype('float')\n",
    "training_data.shape"
   ]
  },
  {
   "cell_type": "code",
   "execution_count": 0,
   "metadata": {
    "colab": {},
    "colab_type": "code",
    "id": "apGaC-snS70S"
   },
   "outputs": [],
   "source": [
    "training_data.shape = (len(training_data), 48, 48, 1)\n",
    "training_labels = training['emotion'].values.astype('float')"
   ]
  },
  {
   "cell_type": "code",
   "execution_count": 0,
   "metadata": {
    "colab": {},
    "colab_type": "code",
    "id": "Q9xXeQPhS790"
   },
   "outputs": [],
   "source": [
    "testing_data.shape = (len(testing_data), 48, 48, 1)\n",
    "testing_labels = testing['emotion'].values.astype('float')"
   ]
  },
  {
   "cell_type": "markdown",
   "metadata": {
    "colab_type": "text",
    "id": "JKhH1kRVz5sx"
   },
   "source": [
    "# Creating Model"
   ]
  },
  {
   "cell_type": "code",
   "execution_count": 0,
   "metadata": {
    "colab": {},
    "colab_type": "code",
    "id": "xqIhWaeEz5s2"
   },
   "outputs": [],
   "source": [
    "model = models.Sequential()\n",
    "\n",
    "model.add(layers.Conv2D(32, kernel_size=(3, 3), activation='relu', input_shape=(48,48,1)))\n",
    "model.add(layers.Conv2D(64, kernel_size=(3, 3), activation='relu'))\n",
    "model.add(layers.MaxPooling2D(pool_size=(2, 2)))\n",
    "model.add(layers.Dropout(0.25))\n",
    "model.add(layers.Conv2D(128, kernel_size=(3, 3), activation='relu'))\n",
    "model.add(layers.MaxPooling2D(pool_size=(2, 2)))\n",
    "model.add(layers.Conv2D(128, kernel_size=(3, 3), activation='relu'))\n",
    "model.add(layers.MaxPooling2D(pool_size=(2, 2)))\n",
    "model.add(layers.Dropout(0.25))\n",
    "model.add(layers.Flatten())\n",
    "model.add(layers.Dense(1024, activation='relu'))\n",
    "model.add(layers.Dropout(0.5))\n",
    "model.add(layers.Dense(7, activation='softmax'))"
   ]
  },
  {
   "cell_type": "code",
   "execution_count": 21,
   "metadata": {
    "colab": {
     "base_uri": "https://localhost:8080/",
     "height": 641
    },
    "colab_type": "code",
    "id": "uyX-BXeQQz0m",
    "outputId": "e5e6419b-5a71-4120-d74d-a53a0778a347"
   },
   "outputs": [
    {
     "name": "stdout",
     "output_type": "stream",
     "text": [
      "Model: \"sequential_1\"\n",
      "_________________________________________________________________\n",
      "Layer (type)                 Output Shape              Param #   \n",
      "=================================================================\n",
      "conv2d_1 (Conv2D)            (None, 46, 46, 32)        320       \n",
      "_________________________________________________________________\n",
      "conv2d_2 (Conv2D)            (None, 44, 44, 64)        18496     \n",
      "_________________________________________________________________\n",
      "max_pooling2d_1 (MaxPooling2 (None, 22, 22, 64)        0         \n",
      "_________________________________________________________________\n",
      "dropout_1 (Dropout)          (None, 22, 22, 64)        0         \n",
      "_________________________________________________________________\n",
      "conv2d_3 (Conv2D)            (None, 20, 20, 128)       73856     \n",
      "_________________________________________________________________\n",
      "max_pooling2d_2 (MaxPooling2 (None, 10, 10, 128)       0         \n",
      "_________________________________________________________________\n",
      "conv2d_4 (Conv2D)            (None, 8, 8, 128)         147584    \n",
      "_________________________________________________________________\n",
      "max_pooling2d_3 (MaxPooling2 (None, 4, 4, 128)         0         \n",
      "_________________________________________________________________\n",
      "dropout_2 (Dropout)          (None, 4, 4, 128)         0         \n",
      "_________________________________________________________________\n",
      "flatten_1 (Flatten)          (None, 2048)              0         \n",
      "_________________________________________________________________\n",
      "dense_1 (Dense)              (None, 1024)              2098176   \n",
      "_________________________________________________________________\n",
      "dropout_3 (Dropout)          (None, 1024)              0         \n",
      "_________________________________________________________________\n",
      "dense_2 (Dense)              (None, 7)                 7175      \n",
      "=================================================================\n",
      "Total params: 2,345,607\n",
      "Trainable params: 2,345,607\n",
      "Non-trainable params: 0\n",
      "_________________________________________________________________\n"
     ]
    }
   ],
   "source": [
    "model.summary()"
   ]
  },
  {
   "cell_type": "markdown",
   "metadata": {
    "colab_type": "text",
    "id": "ySrQGiBmz5tx",
    "scrolled": true
   },
   "source": [
    "# Training Model"
   ]
  },
  {
   "cell_type": "code",
   "execution_count": 0,
   "metadata": {
    "colab": {
     "base_uri": "https://localhost:8080/",
     "height": 1000
    },
    "colab_type": "code",
    "id": "C2OYie-uTBNI",
    "outputId": "48f26ad8-1e7f-4af7-e47d-d576429c80c7"
   },
   "outputs": [
    {
     "name": "stdout",
     "output_type": "stream",
     "text": [
      "Train on 28709 samples, validate on 7178 samples\n",
      "Epoch 1/50\n",
      "28709/28709 [==============================] - 14s 500us/step - loss: 2.4062 - accuracy: 0.2125 - val_loss: 1.8394 - val_accuracy: 0.2515\n",
      "Epoch 2/50\n",
      "28709/28709 [==============================] - 8s 269us/step - loss: 1.8274 - accuracy: 0.2480 - val_loss: 1.8023 - val_accuracy: 0.2671\n",
      "Epoch 3/50\n",
      "28709/28709 [==============================] - 8s 268us/step - loss: 1.7750 - accuracy: 0.2778 - val_loss: 1.7182 - val_accuracy: 0.3069\n",
      "Epoch 4/50\n",
      "28709/28709 [==============================] - 8s 270us/step - loss: 1.7266 - accuracy: 0.3073 - val_loss: 1.6497 - val_accuracy: 0.3653\n",
      "Epoch 5/50\n",
      "28709/28709 [==============================] - 8s 269us/step - loss: 1.6604 - accuracy: 0.3457 - val_loss: 1.5786 - val_accuracy: 0.3845\n",
      "Epoch 6/50\n",
      "28709/28709 [==============================] - 8s 273us/step - loss: 1.5956 - accuracy: 0.3776 - val_loss: 1.4747 - val_accuracy: 0.4351\n",
      "Epoch 7/50\n",
      "28709/28709 [==============================] - 8s 269us/step - loss: 1.5232 - accuracy: 0.4142 - val_loss: 1.4328 - val_accuracy: 0.4536\n",
      "Epoch 8/50\n",
      "28709/28709 [==============================] - 8s 277us/step - loss: 1.4536 - accuracy: 0.4408 - val_loss: 1.3585 - val_accuracy: 0.4868\n",
      "Epoch 9/50\n",
      "28709/28709 [==============================] - 8s 272us/step - loss: 1.3925 - accuracy: 0.4687 - val_loss: 1.3186 - val_accuracy: 0.4997\n",
      "Epoch 10/50\n",
      "28709/28709 [==============================] - 8s 270us/step - loss: 1.3353 - accuracy: 0.4903 - val_loss: 1.2882 - val_accuracy: 0.5244\n",
      "Epoch 11/50\n",
      "28709/28709 [==============================] - 8s 268us/step - loss: 1.2892 - accuracy: 0.5139 - val_loss: 1.2323 - val_accuracy: 0.5417\n",
      "Epoch 12/50\n",
      "28709/28709 [==============================] - 8s 269us/step - loss: 1.2408 - accuracy: 0.5314 - val_loss: 1.2146 - val_accuracy: 0.5502\n",
      "Epoch 13/50\n",
      "28709/28709 [==============================] - 8s 268us/step - loss: 1.2080 - accuracy: 0.5431 - val_loss: 1.2038 - val_accuracy: 0.5507\n",
      "Epoch 14/50\n",
      "28709/28709 [==============================] - 8s 270us/step - loss: 1.1712 - accuracy: 0.5565 - val_loss: 1.1709 - val_accuracy: 0.5651\n",
      "Epoch 15/50\n",
      "28709/28709 [==============================] - 8s 269us/step - loss: 1.1368 - accuracy: 0.5727 - val_loss: 1.1526 - val_accuracy: 0.5666\n",
      "Epoch 16/50\n",
      "28709/28709 [==============================] - 8s 270us/step - loss: 1.0983 - accuracy: 0.5910 - val_loss: 1.1396 - val_accuracy: 0.5713\n",
      "Epoch 17/50\n",
      "28709/28709 [==============================] - 8s 269us/step - loss: 1.0593 - accuracy: 0.6039 - val_loss: 1.1340 - val_accuracy: 0.5795\n",
      "Epoch 18/50\n",
      "28709/28709 [==============================] - 8s 269us/step - loss: 1.0244 - accuracy: 0.6164 - val_loss: 1.1181 - val_accuracy: 0.5808\n",
      "Epoch 19/50\n",
      "28709/28709 [==============================] - 8s 269us/step - loss: 0.9908 - accuracy: 0.6317 - val_loss: 1.1173 - val_accuracy: 0.5869\n",
      "Epoch 20/50\n",
      "28709/28709 [==============================] - 8s 270us/step - loss: 0.9598 - accuracy: 0.6404 - val_loss: 1.1011 - val_accuracy: 0.5935\n",
      "Epoch 21/50\n",
      "28709/28709 [==============================] - 8s 268us/step - loss: 0.9186 - accuracy: 0.6561 - val_loss: 1.0890 - val_accuracy: 0.5986\n",
      "Epoch 22/50\n",
      "28709/28709 [==============================] - 8s 270us/step - loss: 0.8860 - accuracy: 0.6686 - val_loss: 1.0923 - val_accuracy: 0.6023\n",
      "Epoch 23/50\n",
      "28709/28709 [==============================] - 8s 270us/step - loss: 0.8598 - accuracy: 0.6812 - val_loss: 1.0931 - val_accuracy: 0.6035\n",
      "Epoch 24/50\n",
      "28709/28709 [==============================] - 8s 268us/step - loss: 0.8298 - accuracy: 0.6923 - val_loss: 1.0858 - val_accuracy: 0.6048\n",
      "Epoch 25/50\n",
      "28709/28709 [==============================] - 8s 269us/step - loss: 0.7962 - accuracy: 0.7045 - val_loss: 1.0969 - val_accuracy: 0.6034\n",
      "Epoch 26/50\n",
      "28709/28709 [==============================] - 8s 271us/step - loss: 0.7652 - accuracy: 0.7171 - val_loss: 1.0767 - val_accuracy: 0.6078\n",
      "Epoch 27/50\n",
      "28709/28709 [==============================] - 8s 272us/step - loss: 0.7422 - accuracy: 0.7260 - val_loss: 1.0899 - val_accuracy: 0.6106\n",
      "Epoch 28/50\n",
      "28709/28709 [==============================] - 8s 269us/step - loss: 0.7097 - accuracy: 0.7406 - val_loss: 1.0989 - val_accuracy: 0.6135\n",
      "Epoch 29/50\n",
      "28709/28709 [==============================] - 8s 269us/step - loss: 0.6858 - accuracy: 0.7469 - val_loss: 1.0950 - val_accuracy: 0.6105\n",
      "Epoch 30/50\n",
      "28709/28709 [==============================] - 8s 271us/step - loss: 0.6542 - accuracy: 0.7587 - val_loss: 1.1021 - val_accuracy: 0.6088\n",
      "Epoch 31/50\n",
      "28709/28709 [==============================] - 8s 270us/step - loss: 0.6362 - accuracy: 0.7674 - val_loss: 1.1084 - val_accuracy: 0.6127\n",
      "Epoch 32/50\n",
      "28709/28709 [==============================] - 8s 269us/step - loss: 0.6034 - accuracy: 0.7796 - val_loss: 1.1059 - val_accuracy: 0.6169\n",
      "Epoch 33/50\n",
      "28709/28709 [==============================] - 8s 269us/step - loss: 0.5871 - accuracy: 0.7840 - val_loss: 1.1104 - val_accuracy: 0.6144\n",
      "Epoch 34/50\n",
      "28709/28709 [==============================] - 8s 270us/step - loss: 0.5618 - accuracy: 0.7954 - val_loss: 1.1203 - val_accuracy: 0.6126\n",
      "Epoch 35/50\n",
      "28709/28709 [==============================] - 8s 274us/step - loss: 0.5370 - accuracy: 0.8027 - val_loss: 1.1526 - val_accuracy: 0.6180\n",
      "Epoch 36/50\n",
      "28709/28709 [==============================] - 8s 271us/step - loss: 0.5245 - accuracy: 0.8070 - val_loss: 1.1278 - val_accuracy: 0.6181\n",
      "Epoch 37/50\n",
      "28709/28709 [==============================] - 8s 272us/step - loss: 0.5028 - accuracy: 0.8210 - val_loss: 1.1545 - val_accuracy: 0.6158\n",
      "Epoch 38/50\n",
      "28709/28709 [==============================] - 8s 273us/step - loss: 0.4892 - accuracy: 0.8216 - val_loss: 1.1499 - val_accuracy: 0.6142\n",
      "Epoch 39/50\n",
      "28709/28709 [==============================] - 8s 270us/step - loss: 0.4735 - accuracy: 0.8295 - val_loss: 1.1866 - val_accuracy: 0.6116\n",
      "Epoch 40/50\n",
      "28709/28709 [==============================] - 8s 270us/step - loss: 0.4528 - accuracy: 0.8358 - val_loss: 1.1934 - val_accuracy: 0.6160\n",
      "Epoch 41/50\n",
      "28709/28709 [==============================] - 8s 271us/step - loss: 0.4416 - accuracy: 0.8402 - val_loss: 1.1827 - val_accuracy: 0.6151\n",
      "Epoch 42/50\n",
      "28709/28709 [==============================] - 8s 273us/step - loss: 0.4275 - accuracy: 0.8455 - val_loss: 1.2116 - val_accuracy: 0.6108\n",
      "Epoch 43/50\n",
      "28709/28709 [==============================] - 8s 272us/step - loss: 0.4215 - accuracy: 0.8481 - val_loss: 1.1886 - val_accuracy: 0.6123\n",
      "Epoch 44/50\n",
      "28709/28709 [==============================] - 8s 272us/step - loss: 0.4073 - accuracy: 0.8497 - val_loss: 1.2028 - val_accuracy: 0.6154\n",
      "Epoch 45/50\n",
      "28709/28709 [==============================] - 8s 272us/step - loss: 0.3857 - accuracy: 0.8622 - val_loss: 1.2268 - val_accuracy: 0.6184\n",
      "Epoch 46/50\n",
      "28709/28709 [==============================] - 8s 273us/step - loss: 0.3735 - accuracy: 0.8654 - val_loss: 1.2515 - val_accuracy: 0.6201\n",
      "Epoch 47/50\n",
      "28709/28709 [==============================] - 8s 273us/step - loss: 0.3759 - accuracy: 0.8667 - val_loss: 1.2231 - val_accuracy: 0.6184\n",
      "Epoch 48/50\n",
      "28709/28709 [==============================] - 8s 280us/step - loss: 0.3522 - accuracy: 0.8724 - val_loss: 1.2542 - val_accuracy: 0.6147\n",
      "Epoch 49/50\n",
      "28709/28709 [==============================] - 8s 275us/step - loss: 0.3478 - accuracy: 0.8750 - val_loss: 1.2596 - val_accuracy: 0.6158\n",
      "Epoch 50/50\n",
      "28709/28709 [==============================] - 8s 270us/step - loss: 0.3360 - accuracy: 0.8802 - val_loss: 1.2947 - val_accuracy: 0.6187\n"
     ]
    }
   ],
   "source": [
    "model.compile(loss='categorical_crossentropy',optimizer=optimizers.Adam(lr=0.0001, decay=1e-6),metrics=['accuracy'])\n",
    "num_epoch = 50\n",
    "training_labels = keras.utils.to_categorical(training_labels, 7)\n",
    "testing_labels = keras.utils.to_categorical(testing_labels, 7)\n",
    "model_info = model.fit(\n",
    "        training_data, training_labels,\n",
    "        epochs=num_epoch,\n",
    "        validation_data=(testing_data, testing_labels))\n",
    "model.save_weights(\"/content/drive/My Drive/model.h5\")"
   ]
  },
  {
   "cell_type": "code",
   "execution_count": 0,
   "metadata": {
    "colab": {
     "base_uri": "https://localhost:8080/",
     "height": 350
    },
    "colab_type": "code",
    "id": "8BpnyMxbTLg_",
    "outputId": "fb102d87-114d-4d2b-e4a4-237d99ff330e"
   },
   "outputs": [
    {
     "data": {
      "image/png": "[encoded data removed]",
      "text/plain": [
       "<Figure size 1080x360 with 2 Axes>"
      ]
     },
     "metadata": {
      "needs_background": "light",
      "tags": []
     },
     "output_type": "display_data"
    }
   ],
   "source": [
    "plot_model_history(model_info)"
   ]
  },
  {
   "cell_type": "markdown",
   "metadata": {
    "colab_type": "text",
    "id": "BHVh_wLUz5tP"
   },
   "source": [
    "# Emotions will be displayed for the faces detected from the webcam feed"
   ]
  },
  {
   "cell_type": "code",
   "execution_count": 0,
   "metadata": {
    "colab": {},
    "colab_type": "code",
    "id": "vHxB6wulz5tT"
   },
   "outputs": [],
   "source": [
    "#load trained model\n",
    "model.load_weights('/content/drive/My Drive/model.h5')\n",
    "\n",
    "# prevents openCL usage and unnecessary logging messages\n",
    "cv2.ocl.setUseOpenCL(False)\n",
    "\n",
    "# dictionary mapping class labels with corresponding emotions\n",
    "emotion_dict = {0: \"Angry\", 1: \"Disgusted\", 2: \"Fearful\", 3: \"Happy\", 4: \"Neutral\", 5: \"Sad\", 6: \"Surprised\"}\n",
    "\n",
    "# start the webcam feed\n",
    "cap = cv2.VideoCapture(0)\n",
    "\n",
    "# To find haar cascade to draw bounding box around face\n",
    "facecasc = cv2.CascadeClassifier('haarcascade_frontalface_default.xml')\n",
    "while True:\n",
    "    # Capture frame\n",
    "    ret, frame = cap.read()\n",
    "    if not ret:\n",
    "        break;    \n",
    "    \n",
    "    gray = cv2.cvtColor(frame, cv2.COLOR_BGR2GRAY)\n",
    "    faces = facecasc.detectMultiScale(gray,scaleFactor=1.3, minNeighbors=5)\n",
    "\n",
    "    for (x, y, w, h) in faces:\n",
    "        cv2.rectangle(frame, (x, y-50), (x+w, y+h+10), (255, 0, 0), 2)\n",
    "        roi_gray = gray[y:y + h, x:x + w]\n",
    "        cropped_img = np.expand_dims(np.expand_dims(cv2.resize(roi_gray, (48, 48)), -1), 0)\n",
    "        prediction = model.predict(cropped_img)\n",
    "        maxindex = int(np.argmax(prediction))\n",
    "        cv2.putText(frame, emotion_dict[maxindex], (x, y), cv2.FONT_HERSHEY_SIMPLEX, 0.6, (255, 255, 255), 2, cv2.LINE_AA)\n",
    "    cv2.imshow('Video', cv2.resize(frame,(640, 480),interpolation = cv2.INTER_CUBIC))\n",
    "    \n",
    "    # press 'q' to quit webcam feed\n",
    "    if cv2.waitKey(1) & 0xFF == ord('q'):\n",
    "        break\n",
    "        \n",
    "cap.release()\n",
    "cv2.destroyAllWindows()"
   ]
  },
  {
   "cell_type": "code",
   "execution_count": 0,
   "metadata": {
    "colab": {},
    "colab_type": "code",
    "id": "iFqq9VvqfKhG"
   },
   "outputs": [],
   "source": []
  }
 ],
 "metadata": {
  "colab": {
   "collapsed_sections": [],
   "name": "emotions.ipynb",
   "provenance": []
  },
  "kernelspec": {
   "display_name": "Python 3",
   "language": "python",
   "name": "python3"
  },
  "language_info": {
   "codemirror_mode": {
    "name": "ipython",
    "version": 3
   },
   "file_extension": ".py",
   "mimetype": "text/x-python",
   "name": "python",
   "nbconvert_exporter": "python",
   "pygments_lexer": "ipython3",
   "version": "3.7.7"
  }
 },
 "nbformat": 4,
 "nbformat_minor": 1
}
